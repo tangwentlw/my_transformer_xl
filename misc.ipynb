{
 "cells": [
  {
   "cell_type": "code",
   "execution_count": 2,
   "metadata": {},
   "outputs": [
    {
     "name": "stdout",
     "output_type": "stream",
     "text": [
      "tensor([[ 1,  2,  3,  4,  5],\n",
      "        [ 6,  7,  8,  9, 10],\n",
      "        [11, 12, 13, 14, 15]], dtype=torch.int32)\n",
      "tensor([[ 3,  4,  5,  0,  6],\n",
      "        [ 7,  8,  9, 10,  0],\n",
      "        [11, 12, 13, 14, 15]], dtype=torch.int32)\n"
     ]
    }
   ],
   "source": [
    "import torch\n",
    "import numpy as np\n",
    "\n",
    "zero_triu = False\n",
    "x = torch.from_numpy(np.arange(1,16).reshape(3,5))\n",
    "print(x)\n",
    "\n",
    "zero_pad = torch.zeros((x.size(0), 1, *x.size()[2:]),\n",
    "                               device=x.device, dtype=x.dtype)\n",
    "x_padded = torch.cat([zero_pad, x], dim=1)\n",
    "x_padded = x_padded.view(x.size(1) + 1, x.size(0), *x.size()[2:])\n",
    "x = x_padded[1:].view_as(x)\n",
    "\n",
    "if zero_triu:\n",
    "    ones = torch.ones((x.size(0), x.size(1)))\n",
    "    x = x * torch.tril(ones, x.size(1) - x.size(0))[:,:,None,None]\n",
    "\n",
    "print(x)"
   ]
  },
  {
   "cell_type": "code",
   "execution_count": 4,
   "metadata": {},
   "outputs": [
    {
     "data": {
      "text/plain": [
       "array([[0, 0, 0, 0, 0, 0, 0, 0, 0, 0, 0, 0, 0, 1, 1, 1, 1, 1, 1, 1, 1, 1,\n",
       "        1, 1],\n",
       "       [0, 0, 0, 0, 0, 0, 0, 0, 0, 0, 0, 0, 0, 0, 1, 1, 1, 1, 1, 1, 1, 1,\n",
       "        1, 1],\n",
       "       [0, 0, 0, 0, 0, 0, 0, 0, 0, 0, 0, 0, 0, 0, 0, 1, 1, 1, 1, 1, 1, 1,\n",
       "        1, 1],\n",
       "       [0, 0, 0, 0, 0, 0, 0, 0, 0, 0, 0, 0, 0, 0, 0, 0, 1, 1, 1, 1, 1, 1,\n",
       "        1, 1],\n",
       "       [0, 0, 0, 0, 0, 0, 0, 0, 0, 0, 0, 0, 0, 0, 0, 0, 0, 1, 1, 1, 1, 1,\n",
       "        1, 1],\n",
       "       [0, 0, 0, 0, 0, 0, 0, 0, 0, 0, 0, 0, 0, 0, 0, 0, 0, 0, 1, 1, 1, 1,\n",
       "        1, 1],\n",
       "       [0, 0, 0, 0, 0, 0, 0, 0, 0, 0, 0, 0, 0, 0, 0, 0, 0, 0, 0, 1, 1, 1,\n",
       "        1, 1],\n",
       "       [0, 0, 0, 0, 0, 0, 0, 0, 0, 0, 0, 0, 0, 0, 0, 0, 0, 0, 0, 0, 1, 1,\n",
       "        1, 1],\n",
       "       [0, 0, 0, 0, 0, 0, 0, 0, 0, 0, 0, 0, 0, 0, 0, 0, 0, 0, 0, 0, 0, 1,\n",
       "        1, 1],\n",
       "       [0, 0, 0, 0, 0, 0, 0, 0, 0, 0, 0, 0, 0, 0, 0, 0, 0, 0, 0, 0, 0, 0,\n",
       "        1, 1],\n",
       "       [0, 0, 0, 0, 0, 0, 0, 0, 0, 0, 0, 0, 0, 0, 0, 0, 0, 0, 0, 0, 0, 0,\n",
       "        0, 1],\n",
       "       [0, 0, 0, 0, 0, 0, 0, 0, 0, 0, 0, 0, 0, 0, 0, 0, 0, 0, 0, 0, 0, 0,\n",
       "        0, 0]])"
      ]
     },
     "execution_count": 4,
     "metadata": {},
     "output_type": "execute_result"
    }
   ],
   "source": [
    "import numpy as np\n",
    "\n",
    "np.array([[False, False, False, False, False, False, False, False, False, False, False, False, False,  True,  True,  True,  True,  True,  True,  True, True,  True,  True,  True],\n",
    "        [False, False, False, False, False, False, False, False, False, False, False, False, False, False,  True,  True,  True,  True,  True,  True, True,  True,  True,  True],\n",
    "        [False, False, False, False, False, False, False, False, False, False,\n",
    "         False, False, False, False, False,  True,  True,  True,  True,  True,\n",
    "          True,  True,  True,  True],\n",
    "        [False, False, False, False, False, False, False, False, False, False,\n",
    "         False, False, False, False, False, False,  True,  True,  True,  True,\n",
    "          True,  True,  True,  True],\n",
    "        [False, False, False, False, False, False, False, False, False, False,\n",
    "         False, False, False, False, False, False, False,  True,  True,  True,\n",
    "          True,  True,  True,  True],\n",
    "        [False, False, False, False, False, False, False, False, False, False,\n",
    "         False, False, False, False, False, False, False, False,  True,  True,\n",
    "          True,  True,  True,  True],\n",
    "        [False, False, False, False, False, False, False, False, False, False,\n",
    "         False, False, False, False, False, False, False, False, False,  True,\n",
    "          True,  True,  True,  True],\n",
    "        [False, False, False, False, False, False, False, False, False, False,\n",
    "         False, False, False, False, False, False, False, False, False, False,\n",
    "          True,  True,  True,  True],\n",
    "        [False, False, False, False, False, False, False, False, False, False,\n",
    "         False, False, False, False, False, False, False, False, False, False,\n",
    "         False,  True,  True,  True],\n",
    "        [False, False, False, False, False, False, False, False, False, False,\n",
    "         False, False, False, False, False, False, False, False, False, False,\n",
    "         False, False,  True,  True],\n",
    "        [False, False, False, False, False, False, False, False, False, False,\n",
    "         False, False, False, False, False, False, False, False, False, False,\n",
    "         False, False, False,  True],\n",
    "        [False, False, False, False, False, False, False, False, False, False,\n",
    "         False, False, False, False, False, False, False, False, False, False,\n",
    "         False, False, False, False]]).astype(int)"
   ]
  },
  {
   "cell_type": "code",
   "execution_count": null,
   "metadata": {},
   "outputs": [],
   "source": []
  }
 ],
 "metadata": {
  "kernelspec": {
   "display_name": "crack_zoom",
   "language": "python",
   "name": "python3"
  },
  "language_info": {
   "codemirror_mode": {
    "name": "ipython",
    "version": 3
   },
   "file_extension": ".py",
   "mimetype": "text/x-python",
   "name": "python",
   "nbconvert_exporter": "python",
   "pygments_lexer": "ipython3",
   "version": "3.9.12"
  }
 },
 "nbformat": 4,
 "nbformat_minor": 2
}
